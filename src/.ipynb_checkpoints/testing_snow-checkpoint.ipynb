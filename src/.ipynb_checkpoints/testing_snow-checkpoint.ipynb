{
 "cells": [
  {
   "cell_type": "code",
   "execution_count": 1,
   "id": "58e2be7f-ba14-4c69-91b9-291078268a23",
   "metadata": {},
   "outputs": [],
   "source": [
    "from snow import SnowModel\n",
    "from seb import SebModel\n",
    "from soil import SoilModel\n",
    "from thermal import Thermal\n",
    "import numpy as np\n",
    "import matplotlib.pyplot as plt\n",
    "import pandas as pd\n",
    "import xarray as xr"
   ]
  },
  {
   "cell_type": "code",
   "execution_count": 2,
   "id": "6341979c-fa2d-4222-9e4d-07d4e5810572",
   "metadata": {},
   "outputs": [],
   "source": [
    "fforc = r'/Users/jpnousu/Documents/Forc_test/FORCING_LOMPOLO.nc'\n",
    "forc = xr.open_dataset(fforc).sel(time=slice('2020-10-01', '2021-07-01'))"
   ]
  },
  {
   "cell_type": "code",
   "execution_count": 3,
   "id": "6b4dea81-07cd-4039-9633-08e22ecaedf4",
   "metadata": {},
   "outputs": [],
   "source": [
    "seb = SebModel()\n",
    "snow = SnowModel()\n",
    "soil = SoilModel()\n",
    "thermal = Thermal()"
   ]
  },
  {
   "cell_type": "code",
   "execution_count": 5,
   "id": "10d7f9f4-e548-488f-a66c-69d34d2121d0",
   "metadata": {},
   "outputs": [
    {
     "name": "stdout",
     "output_type": "stream",
     "text": [
      "step 0\n"
     ]
    },
    {
     "ename": "TypeError",
     "evalue": "Thermal.run_timestep() got multiple values for argument 'Dsnw'",
     "output_type": "error",
     "traceback": [
      "\u001b[0;31m---------------------------------------------------------------------------\u001b[0m",
      "\u001b[0;31mTypeError\u001b[0m                                 Traceback (most recent call last)",
      "Cell \u001b[0;32mIn[5], line 50\u001b[0m\n\u001b[1;32m     47\u001b[0m Ua \u001b[38;5;241m=\u001b[39m np\u001b[38;5;241m.\u001b[39marray(d_forc[\u001b[38;5;124m'\u001b[39m\u001b[38;5;124mWind\u001b[39m\u001b[38;5;124m'\u001b[39m]\u001b[38;5;241m.\u001b[39mdata)\n\u001b[1;32m     48\u001b[0m Qa \u001b[38;5;241m=\u001b[39m np\u001b[38;5;241m.\u001b[39marray(d_forc[\u001b[38;5;124m'\u001b[39m\u001b[38;5;124mQair\u001b[39m\u001b[38;5;124m'\u001b[39m]\u001b[38;5;241m.\u001b[39mdata)\n\u001b[0;32m---> 50\u001b[0m Ds1, gs1, ks1, Ts1, csoil, ksnow, ksoil \u001b[38;5;241m=\u001b[39m thermal\u001b[38;5;241m.\u001b[39mrun_timestep(Nsnow, Dsnw\u001b[38;5;241m=\u001b[39mDsnw,\n\u001b[1;32m     51\u001b[0m                                                                Sice\u001b[38;5;241m=\u001b[39mSice, Sliq\u001b[38;5;241m=\u001b[39mSliq,\n\u001b[1;32m     52\u001b[0m                                                                Tsnow\u001b[38;5;241m=\u001b[39mTsnow, Tsoil\u001b[38;5;241m=\u001b[39mTsoil,\n\u001b[1;32m     53\u001b[0m                                                                Vsmc\u001b[38;5;241m=\u001b[39mVsmc)\n\u001b[1;32m     55\u001b[0m Esrf, Gsrf, H, LE, LWout, LWsub, Melt, subl, Usub, Eveg, Tsrf \u001b[38;5;241m=\u001b[39m seb\u001b[38;5;241m.\u001b[39mrun_timestep(cveg\u001b[38;5;241m=\u001b[39mcveg, Ds1\u001b[38;5;241m=\u001b[39mDs1, \n\u001b[1;32m     56\u001b[0m                                                                                   dt\u001b[38;5;241m=\u001b[39mdt, fcans\u001b[38;5;241m=\u001b[39mfcans, \n\u001b[1;32m     57\u001b[0m                                                                                   fsnow\u001b[38;5;241m=\u001b[39mfsnow, gs1\u001b[38;5;241m=\u001b[39mgs1, \n\u001b[0;32m   (...)\u001b[0m\n\u001b[1;32m     62\u001b[0m                                                                                   Tveg0\u001b[38;5;241m=\u001b[39mTveg0, Ua\u001b[38;5;241m=\u001b[39mUa, VAI\u001b[38;5;241m=\u001b[39mVAI, \n\u001b[1;32m     63\u001b[0m                                                                                   vegh\u001b[38;5;241m=\u001b[39mvegh, zT\u001b[38;5;241m=\u001b[39mzT, zU\u001b[38;5;241m=\u001b[39mzU, Sice\u001b[38;5;241m=\u001b[39mSice)\n\u001b[1;32m     65\u001b[0m Gsoil, Roff, hs, swe, Wflx, Sice, Sliq, Dsnw, Rgrn, Tsnow, Tsoil, Nsnow \u001b[38;5;241m=\u001b[39m snow\u001b[38;5;241m.\u001b[39mrun_timestep(dt\u001b[38;5;241m=\u001b[39mdt, \n\u001b[1;32m     66\u001b[0m                                                                                             drip\u001b[38;5;241m=\u001b[39m\u001b[38;5;241m0\u001b[39m, \n\u001b[1;32m     67\u001b[0m                                                                                             Esrf\u001b[38;5;241m=\u001b[39mEsrf, \n\u001b[0;32m   (...)\u001b[0m\n\u001b[1;32m     76\u001b[0m                                                                                             unload\u001b[38;5;241m=\u001b[39m\u001b[38;5;241m0\u001b[39m, \n\u001b[1;32m     77\u001b[0m                                                                                             Tsoil\u001b[38;5;241m=\u001b[39mTsoil)\n",
      "\u001b[0;31mTypeError\u001b[0m: Thermal.run_timestep() got multiple values for argument 'Dsnw'"
     ]
    }
   ],
   "source": [
    "dt = 3600\n",
    "Ncnpy = 0\n",
    "cveg = np.zeros(Ncnpy) \n",
    "Ds1 = np.array(5)\n",
    "fcans = np.zeros(Ncnpy)\n",
    "lveg = np.zeros(Ncnpy)\n",
    "fsnow = np.zeros(1)\n",
    "gs1 = np.zeros(1)\n",
    "ks1 = np.zeros(1)\n",
    "Sveg = np.zeros(1)\n",
    "SWveg = np.zeros(1)\n",
    "tdif = np.zeros(1)\n",
    "Ts1 = np.zeros(1)\n",
    "Tveg0 = np.zeros(1)\n",
    "Ua = np.zeros(1)+0.1\n",
    "VAI = np.zeros(1)\n",
    "vegh = np.zeros(1)\n",
    "zT = np.zeros(1)\n",
    "zU = np.zeros(1)\n",
    "Sice = np.ones(shape=3)\n",
    "Sliq = np.ones(shape=3)\n",
    "Tsoil = np.ones(3)+273.15\n",
    "Tsnow = np.ones(3)+273.15\n",
    "ksoil = np.ones(3)*0.24\n",
    "Nsnow = np.zeros(1)\n",
    "Rgrn = np.zeros(3)\n",
    "Dsnw = np.zeros(3)\n",
    "Vsmc = np.zeros(1)+0.3\n",
    "\n",
    "# outputs\n",
    "swelist = []\n",
    "hslist = []\n",
    "Meltlist = []\n",
    "Gsrflist = []\n",
    "\n",
    "for i in range(len(forc['time'])):\n",
    "    \n",
    "    d_forc = forc.isel(time=i)\n",
    "    print('step', i)\n",
    "\n",
    "    LW = np.array(d_forc['LWdown'].data)\n",
    "    Ps = np.array(d_forc['PSurf'].data)\n",
    "    SWsrf = np.array(d_forc['DIR_SWdown'].data)\n",
    "    Ta = np.array(d_forc['Tair'].data)\n",
    "    Rf = np.array(d_forc['Rainf'].data)\n",
    "    Sf = np.array(d_forc['Snowf'].data)\n",
    "    Ua = np.array(d_forc['Wind'].data)\n",
    "    Qa = np.array(d_forc['Qair'].data)\n",
    "\n",
    "    Ds1, gs1, ks1, Ts1, csoil, ksnow, ksoil = thermal.run_timestep(Nsnow=Nsnow, Dsnw=Dsnw,\n",
    "                                                                   Sice=Sice, Sliq=Sliq,\n",
    "                                                                   Tsnow=Tsnow, Tsoil=Tsoil,\n",
    "                                                                   Vsmc=Vsmc)\n",
    "\n",
    "    Esrf, Gsrf, H, LE, LWout, LWsub, Melt, subl, Usub, Eveg, Tsrf = seb.run_timestep(cveg=cveg, Ds1=Ds1, \n",
    "                                                                                      dt=dt, fcans=fcans, \n",
    "                                                                                      fsnow=fsnow, gs1=gs1, \n",
    "                                                                                      ks1=ks1, lveg=lveg, LW=LW, \n",
    "                                                                                      Ps=Ps, Qa=Qa, SWsrf=SWsrf, \n",
    "                                                                                      Sveg=Sveg, SWveg=SWveg, \n",
    "                                                                                      Ta=Ta, tdif=tdif, Ts1=Ts1, \n",
    "                                                                                      Tveg0=Tveg0, Ua=Ua, VAI=VAI, \n",
    "                                                                                      vegh=vegh, zT=zT, zU=zU, Sice=Sice)\n",
    "    \n",
    "    Gsoil, Roff, hs, swe, Wflx, Sice, Sliq, Dsnw, Rgrn, Tsnow, Tsoil, Nsnow = snow.run_timestep(dt=dt, \n",
    "                                                                                                drip=0, \n",
    "                                                                                                Esrf=Esrf, \n",
    "                                                                                                Gsrf=Gsrf,\n",
    "                                                                                                ksoil=ksoil, \n",
    "                                                                                                Melt=Melt, \n",
    "                                                                                                Rf=Rf, \n",
    "                                                                                                Sf=Sf, \n",
    "                                                                                                Ta=Ta, \n",
    "                                                                                                trans=0, \n",
    "                                                                                                Tsrf=Tsrf,\n",
    "                                                                                                unload=0, \n",
    "                                                                                                Tsoil=Tsoil)\n",
    "\n",
    "    Tsoil = soil.run_timestep(dt, Gsoil)\n",
    "    \n",
    "    swelist.append(swe)\n",
    "    hslist.append(hs)\n",
    "    Meltlist.append(Melt)\n",
    "    Gsrflist.append(Gsrf)"
   ]
  },
  {
   "cell_type": "code",
   "execution_count": 7,
   "id": "948122df-9e6e-4d76-9162-7314c8b2980c",
   "metadata": {},
   "outputs": [
    {
     "data": {
      "text/plain": [
       "[<matplotlib.lines.Line2D at 0x179247010>]"
      ]
     },
     "execution_count": 7,
     "metadata": {},
     "output_type": "execute_result"
    },
    {
     "data": {
      "image/png": "[encoded data removed]",
      "text/plain": [
       "<Figure size 640x480 with 1 Axes>"
      ]
     },
     "metadata": {},
     "output_type": "display_data"
    }
   ],
   "source": [
    "plt.plot(hslist)"
   ]
  },
  {
   "cell_type": "code",
   "execution_count": 3,
   "id": "7677dce7-3472-4f30-8b42-fd558ecc9f5a",
   "metadata": {},
   "outputs": [
    {
     "name": "stdout",
     "output_type": "stream",
     "text": [
      "self.zsub 2.0\n",
      "rL [-1.06134479]\n",
      "self.z0g [0.1]\n",
      "self.zsub 2.0\n",
      "rL 2.0\n",
      "self.z0g [0.1]\n",
      "self.zsub 2.0\n",
      "rL 2.0\n",
      "self.z0g [0.1]\n",
      "self.zsub 2.0\n",
      "rL 2.0\n",
      "self.z0g [0.1]\n",
      "self.zsub 2.0\n",
      "rL 2.0\n",
      "self.z0g [0.1]\n",
      "self.zsub 2.0\n",
      "rL 2.0\n",
      "self.z0g [0.1]\n",
      "self.zsub 2.0\n",
      "rL 2.0\n",
      "self.z0g [0.1]\n",
      "self.zsub 2.0\n",
      "rL 2.0\n",
      "self.z0g [0.1]\n"
     ]
    },
    {
     "name": "stderr",
     "output_type": "stream",
     "text": [
      "/Users/jpnousu/pyFSM2/src/srfebal.py:505: RuntimeWarning: invalid value encountered in power\n",
      "  2 * np.log((1 + (1 - 16 * zeta) ** 0.25) / 2) +\n",
      "/Users/jpnousu/pyFSM2/src/srfebal.py:506: RuntimeWarning: invalid value encountered in sqrt\n",
      "  np.log((1 + (1 - 16 * zeta) ** 0.5) / 2) -\n",
      "/Users/jpnousu/pyFSM2/src/srfebal.py:507: RuntimeWarning: invalid value encountered in power\n",
      "  2 * np.arctan((1 - 16 * zeta) ** 0.25) +\n",
      "/Users/jpnousu/pyFSM2/src/srfebal.py:519: RuntimeWarning: invalid value encountered in sqrt\n",
      "  2 * np.log((1 + (1 - 16 * zeta) ** 0.5) / 2))\n"
     ]
    },
    {
     "data": {
      "text/plain": [
       "(array([0.]),\n",
       " array([0.]),\n",
       " array([-0.34356495]),\n",
       " array([0.]),\n",
       " array([0.34442915]),\n",
       " array([0.]),\n",
       " 0,\n",
       " array([0.]),\n",
       " array([0.04157039+0.j]),\n",
       " array([0.]),\n",
       " array([49.64542225]))"
      ]
     },
     "execution_count": 3,
     "metadata": {},
     "output_type": "execute_result"
    }
   ],
   "source": [
    "dt = 3600\n",
    "Ncnpy = 0\n",
    "cveg = np.zeros(Ncnpy) \n",
    "Ds1 = np.array(5)\n",
    "fcans = np.zeros(Ncnpy)\n",
    "lveg = np.zeros(Ncnpy)\n",
    "fsnow = np.zeros(1)\n",
    "gs1 = np.zeros(1)\n",
    "ks1 = np.zeros(1)\n",
    "LW = np.zeros(1)\n",
    "Ps = 10000\n",
    "Qa = np.zeros(1)\n",
    "SWsrf = np.zeros(1)\n",
    "Sveg = np.zeros(1)\n",
    "SWveg = np.zeros(1)\n",
    "Ta = np.zeros(1)+272.15\n",
    "tdif = np.zeros(1)\n",
    "Ts1 = np.zeros(1)\n",
    "Tveg0 = np.zeros(1)\n",
    "Ua = np.zeros(1)+0.1\n",
    "VAI = np.zeros(1)\n",
    "vegh = np.zeros(1)\n",
    "zT = np.zeros(1)\n",
    "zU = np.zeros(1)\n",
    "Sice = np.ones(shape=3)\n",
    "\n",
    "ebal.run_timestep(cveg=cveg, Ds1=Ds1, dt=dt, fcans=fcans, fsnow=fsnow, gs1=gs1, ks1=ks1, lveg=lveg, LW=LW, Ps=Ps, Qa=Qa, SWsrf=SWsrf, \n",
    "                     Sveg=Sveg, SWveg=SWveg, Ta=Ta, tdif=tdif, Ts1=Ts1, Tveg0=Tveg0, Ua=Ua, VAI=VAI, vegh=vegh, zT=zT, zU=zU, Sice=Sice)"
   ]
  },
  {
   "cell_type": "code",
   "execution_count": 13,
   "id": "1846e9fb-208c-4087-8a4c-845c888bab15",
   "metadata": {},
   "outputs": [
    {
     "name": "stdout",
     "output_type": "stream",
     "text": [
      "initial self.Nsnow 2\n",
      "initial self.Dsnw [0.1 0.2 0.4]\n",
      "initial self.Sice [30.         60.         53.96793273]\n",
      "initial self.Sliq [0.25210084 0.50420168 6.53626895]\n",
      "k 1\n",
      "initial ksnow [0.24       0.23353876]\n",
      "initial ksoil [1. 1. 1.]\n",
      "Nold 2\n",
      "kold 1\n",
      "knew 2\n"
     ]
    },
    {
     "data": {
      "text/plain": [
       "(-1.975129848542316,\n",
       " 0,\n",
       " 12.579457563672014,\n",
       " 151.26050420168065,\n",
       " array([0., 0., 0.]))"
      ]
     },
     "execution_count": 13,
     "metadata": {},
     "output_type": "execute_result"
    }
   ],
   "source": [
    "Wlfx=np.zeros(3)\n",
    "Dsnw=np.ones(3)*0.1\n",
    "Rgrn=np.ones(3)*0.001\n",
    "Nsnow = np.array(3)\n",
    "ksoil = np.ones(3)\n",
    "Gsrf = np.ones(1)\n",
    "Tsoil = np.ones(1)*274.15\n",
    "Tsrf = np.ones(1)*274.15\n",
    "Ta = np.ones(1)*274.15\n",
    "Melt = np.zeros(1)+0.01\n",
    "dt = 3600\n",
    "snow.run_timestep(dt=dt,drip=0,Esrf=0,Gsrf=Gsrf,ksoil=ksoil,Melt=Melt,Rf=0.0,\n",
    "                  Sf=1.0,Ta=Ta,trans=0,Tsrf=Tsrf,unload=0,Tsoil=Tsoil)"
   ]
  },
  {
   "cell_type": "code",
   "execution_count": 8,
   "id": "dd65ff8f-5452-487c-9db0-608b3577d572",
   "metadata": {},
   "outputs": [
    {
     "ename": "TypeError",
     "evalue": "SnowModel.snow_thermal() got an unexpected keyword argument 'rhof'",
     "output_type": "error",
     "traceback": [
      "\u001b[0;31m---------------------------------------------------------------------------\u001b[0m",
      "\u001b[0;31mTypeError\u001b[0m                                 Traceback (most recent call last)",
      "Cell \u001b[0;32mIn[8], line 8\u001b[0m\n\u001b[1;32m      6\u001b[0m \u001b[38;5;28;01mfor\u001b[39;00m ice \u001b[38;5;129;01min\u001b[39;00m Sice:\n\u001b[1;32m      7\u001b[0m     Si \u001b[38;5;241m=\u001b[39m np\u001b[38;5;241m.\u001b[39marray([ice])\n\u001b[0;32m----> 8\u001b[0m     ksnow\u001b[38;5;241m.\u001b[39mappend(snow\u001b[38;5;241m.\u001b[39msnow_thermal(rhof\u001b[38;5;241m=\u001b[39msnow\u001b[38;5;241m.\u001b[39mrhof, rho_wat\u001b[38;5;241m=\u001b[39msnow\u001b[38;5;241m.\u001b[39mrho_wat, \n\u001b[1;32m      9\u001b[0m                                    Dsnw\u001b[38;5;241m=\u001b[39mDsnw, Nsnow\u001b[38;5;241m=\u001b[39m\u001b[38;5;241m1\u001b[39m, Sice\u001b[38;5;241m=\u001b[39mSi, Sliq\u001b[38;5;241m=\u001b[39mSliq, CONDUCT\u001b[38;5;241m=\u001b[39m\u001b[38;5;241m1\u001b[39m, DENSITY\u001b[38;5;241m=\u001b[39m\u001b[38;5;241m1\u001b[39m))\n",
      "\u001b[0;31mTypeError\u001b[0m: SnowModel.snow_thermal() got an unexpected keyword argument 'rhof'"
     ]
    }
   ],
   "source": [
    "# Testing snow thermal\n",
    "Dsnw = np.array([1.0])\n",
    "Sice = np.arange(0,350,10)\n",
    "Sliq = np.array([0.0])\n",
    "ksnow = []\n",
    "for ice in Sice:\n",
    "    Si = np.array([ice])\n",
    "    ksnow.append(snow.snow_thermal(rhof=snow.rhof, rho_wat=snow.rho_wat, \n",
    "                                   Dsnw=Dsnw, Nsnow=1, Sice=Si, Sliq=Sliq, CONDUCT=1, DENSITY=1))"
   ]
  },
  {
   "cell_type": "code",
   "execution_count": 5,
   "id": "ca6f9bff-b3d3-4efe-8e7a-5ea46c6390d4",
   "metadata": {},
   "outputs": [
    {
     "name": "stdout",
     "output_type": "stream",
     "text": [
      "0\n",
      "1\n",
      "2\n"
     ]
    }
   ],
   "source": [
    "Nold = 3\n",
    "for i in range(Nold):\n",
    "    print(i)"
   ]
  },
  {
   "cell_type": "code",
   "execution_count": 17,
   "id": "4566e254-f79a-4b00-9fae-6007f5c2e09e",
   "metadata": {},
   "outputs": [
    {
     "data": {
      "text/plain": [
       "[<matplotlib.lines.Line2D at 0x12fabe710>]"
      ]
     },
     "execution_count": 17,
     "metadata": {},
     "output_type": "execute_result"
    },
    {
     "data": {
      "image/png": "[encoded data removed]",
      "text/plain": [
       "<Figure size 640x480 with 1 Axes>"
      ]
     },
     "metadata": {},
     "output_type": "display_data"
    }
   ],
   "source": [
    "plt.plot(ksnow, Sice)"
   ]
  },
  {
   "cell_type": "code",
   "execution_count": null,
   "id": "31116563-8c3e-416a-938b-55c47e8cc719",
   "metadata": {},
   "outputs": [],
   "source": []
  }
 ],
 "metadata": {
  "kernelspec": {
   "display_name": "Python 3 (ipykernel)",
   "language": "python",
   "name": "python3"
  },
  "language_info": {
   "codemirror_mode": {
    "name": "ipython",
    "version": 3
   },
   "file_extension": ".py",
   "mimetype": "text/x-python",
   "name": "python",
   "nbconvert_exporter": "python",
   "pygments_lexer": "ipython3",
   "version": "3.11.5"
  }
 },
 "nbformat": 4,
 "nbformat_minor": 5
}
