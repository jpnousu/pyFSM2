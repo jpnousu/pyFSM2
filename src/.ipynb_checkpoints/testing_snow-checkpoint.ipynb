{
 "cells": [
  {
   "cell_type": "code",
   "execution_count": 1,
   "id": "58e2be7f-ba14-4c69-91b9-291078268a23",
   "metadata": {},
   "outputs": [],
   "source": [
    "from snow import SnowModel\n",
    "from srfebal import SrfEbal\n",
    "import numpy as np\n",
    "import matplotlib.pyplot as plt"
   ]
  },
  {
   "cell_type": "code",
   "execution_count": 2,
   "id": "6b4dea81-07cd-4039-9633-08e22ecaedf4",
   "metadata": {},
   "outputs": [],
   "source": [
    "ebal = SrfEbal()\n",
    "snow = SnowModel()"
   ]
  },
  {
   "cell_type": "code",
   "execution_count": 3,
   "id": "7677dce7-3472-4f30-8b42-fd558ecc9f5a",
   "metadata": {},
   "outputs": [
    {
     "name": "stderr",
     "output_type": "stream",
     "text": [
      "/Users/jpnousu/pyFSM2/src/srfebal.py:200: RuntimeWarning: divide by zero encountered in log\n",
      "  ustar = self.vkman * Ua / np.log(self.zU1/self.z0g)\n",
      "/Users/jpnousu/pyFSM2/src/srfebal.py:201: RuntimeWarning: divide by zero encountered in log\n",
      "  ga = self.vkman * ustar / np.log(self.zT1/self.z0h)\n",
      "/Users/jpnousu/pyFSM2/src/srfebal.py:212: RuntimeWarning: invalid value encountered in divide\n",
      "  rL = -self.vkman*B/(Ta*ustar**3)\n",
      "/Users/jpnousu/pyFSM2/src/srfebal.py:221: RuntimeWarning: divide by zero encountered in log\n",
      "  ustar = self.vkman * Ua / (np.log(self.zU1/self.z0g) - self.psim(z=self.zU1, rL=rL) + self.psim(z=self.z0g, rL=rL))\n"
     ]
    },
    {
     "name": "stdout",
     "output_type": "stream",
     "text": [
      "vkman 0.4\n",
      "B [0.]\n",
      "Ta [272.15]\n",
      "ustar [-0.]\n",
      "rL [nan]\n",
      "self.zU1 [0.]\n",
      "self.z0g [0.1]\n",
      "self.zT1 [0.]\n",
      "self.z0h [0.01]\n",
      "rL [nan]\n"
     ]
    },
    {
     "ename": "TypeError",
     "evalue": "SrfEbal.psim() got multiple values for argument 'z'",
     "output_type": "error",
     "traceback": [
      "\u001b[0;31m---------------------------------------------------------------------------\u001b[0m",
      "\u001b[0;31mTypeError\u001b[0m                                 Traceback (most recent call last)",
      "Cell \u001b[0;32mIn[3], line 26\u001b[0m\n\u001b[1;32m     23\u001b[0m zT \u001b[38;5;241m=\u001b[39m np\u001b[38;5;241m.\u001b[39mzeros(\u001b[38;5;241m1\u001b[39m)\n\u001b[1;32m     24\u001b[0m zU \u001b[38;5;241m=\u001b[39m np\u001b[38;5;241m.\u001b[39mzeros(\u001b[38;5;241m1\u001b[39m)\n\u001b[0;32m---> 26\u001b[0m ebal\u001b[38;5;241m.\u001b[39mrun_timestep(cveg\u001b[38;5;241m=\u001b[39mcveg, Ds1\u001b[38;5;241m=\u001b[39mDs1, dt\u001b[38;5;241m=\u001b[39mdt, fcans\u001b[38;5;241m=\u001b[39mfcans, fsnow\u001b[38;5;241m=\u001b[39mfsnow, gs1\u001b[38;5;241m=\u001b[39mgs1, ks1\u001b[38;5;241m=\u001b[39mks1, lveg\u001b[38;5;241m=\u001b[39mlveg, LW\u001b[38;5;241m=\u001b[39mLW, Ps\u001b[38;5;241m=\u001b[39mPs, Qa\u001b[38;5;241m=\u001b[39mQa, SWsrf\u001b[38;5;241m=\u001b[39mSWsrf, \n\u001b[1;32m     27\u001b[0m                      Sveg\u001b[38;5;241m=\u001b[39mSveg, SWveg\u001b[38;5;241m=\u001b[39mSWveg, Ta\u001b[38;5;241m=\u001b[39mTa, tdif\u001b[38;5;241m=\u001b[39mtdif, Ts1\u001b[38;5;241m=\u001b[39mTs1, Tveg0\u001b[38;5;241m=\u001b[39mTveg0, Ua\u001b[38;5;241m=\u001b[39mUa, VAI\u001b[38;5;241m=\u001b[39mVAI, vegh\u001b[38;5;241m=\u001b[39mvegh, zT\u001b[38;5;241m=\u001b[39mzT, zU\u001b[38;5;241m=\u001b[39mzU)\n",
      "File \u001b[0;32m~/pyFSM2/src/srfebal.py:221\u001b[0m, in \u001b[0;36mSrfEbal.run_timestep\u001b[0;34m(self, cveg, Ds1, dt, fcans, fsnow, gs1, ks1, lveg, LW, Ps, Qa, SWsrf, Sveg, SWveg, Ta, tdif, Ts1, Tveg0, Ua, VAI, vegh, zT, zU)\u001b[0m\n\u001b[1;32m    219\u001b[0m     \u001b[38;5;28mprint\u001b[39m(\u001b[38;5;124m'\u001b[39m\u001b[38;5;124mself.z0h\u001b[39m\u001b[38;5;124m'\u001b[39m, \u001b[38;5;28mself\u001b[39m\u001b[38;5;241m.\u001b[39mz0h)\n\u001b[1;32m    220\u001b[0m     \u001b[38;5;28mprint\u001b[39m(\u001b[38;5;124m'\u001b[39m\u001b[38;5;124mrL\u001b[39m\u001b[38;5;124m'\u001b[39m, rL)\n\u001b[0;32m--> 221\u001b[0m     ustar \u001b[38;5;241m=\u001b[39m \u001b[38;5;28mself\u001b[39m\u001b[38;5;241m.\u001b[39mvkman \u001b[38;5;241m*\u001b[39m Ua \u001b[38;5;241m/\u001b[39m (np\u001b[38;5;241m.\u001b[39mlog(\u001b[38;5;28mself\u001b[39m\u001b[38;5;241m.\u001b[39mzU1\u001b[38;5;241m/\u001b[39m\u001b[38;5;28mself\u001b[39m\u001b[38;5;241m.\u001b[39mz0g) \u001b[38;5;241m-\u001b[39m \u001b[38;5;28mself\u001b[39m\u001b[38;5;241m.\u001b[39mpsim(z\u001b[38;5;241m=\u001b[39m\u001b[38;5;28mself\u001b[39m\u001b[38;5;241m.\u001b[39mzU1, rL\u001b[38;5;241m=\u001b[39mrL) \u001b[38;5;241m+\u001b[39m \u001b[38;5;28mself\u001b[39m\u001b[38;5;241m.\u001b[39mpsim(z\u001b[38;5;241m=\u001b[39m\u001b[38;5;28mself\u001b[39m\u001b[38;5;241m.\u001b[39mz0g, rL\u001b[38;5;241m=\u001b[39mrL))\n\u001b[1;32m    222\u001b[0m     ga \u001b[38;5;241m=\u001b[39m \u001b[38;5;28mself\u001b[39m\u001b[38;5;241m.\u001b[39mvkman \u001b[38;5;241m*\u001b[39m ustar \u001b[38;5;241m/\u001b[39m (np\u001b[38;5;241m.\u001b[39mlog(\u001b[38;5;28mself\u001b[39m\u001b[38;5;241m.\u001b[39mzT1 \u001b[38;5;241m/\u001b[39m \u001b[38;5;28mself\u001b[39m\u001b[38;5;241m.\u001b[39mz0h) \u001b[38;5;241m-\u001b[39m \u001b[38;5;28mself\u001b[39m\u001b[38;5;241m.\u001b[39mpsih(z\u001b[38;5;241m=\u001b[39m\u001b[38;5;28mself\u001b[39m\u001b[38;5;241m.\u001b[39mzT1, rL\u001b[38;5;241m=\u001b[39mrL) \u001b[38;5;241m+\u001b[39m \u001b[38;5;28mself\u001b[39m\u001b[38;5;241m.\u001b[39mpsih(z\u001b[38;5;241m=\u001b[39m\u001b[38;5;28mself\u001b[39m\u001b[38;5;241m.\u001b[39mz0h, rL\u001b[38;5;241m=\u001b[39mrL)) \u001b[38;5;66;03m# !+ 2/(rho * self.cp) # NOTE WHAT IS !+\u001b[39;00m\n\u001b[1;32m    224\u001b[0m \u001b[38;5;66;03m# Surface water availability\u001b[39;00m\n",
      "\u001b[0;31mTypeError\u001b[0m: SrfEbal.psim() got multiple values for argument 'z'"
     ]
    }
   ],
   "source": [
    "dt = 3600\n",
    "Ncnpy = 0\n",
    "cveg = np.zeros(Ncnpy) \n",
    "Ds1 = np.array(5)\n",
    "fcans = np.zeros(Ncnpy)\n",
    "lveg = np.zeros(Ncnpy)\n",
    "fsnow = np.zeros(1)\n",
    "gs1 = np.zeros(1)\n",
    "ks1 = np.zeros(1)\n",
    "LW = np.zeros(1)\n",
    "Ps = 10000\n",
    "Qa = np.zeros(1)\n",
    "SWsrf = np.zeros(1)\n",
    "Sveg = np.zeros(1)\n",
    "SWveg = np.zeros(1)\n",
    "Ta = np.zeros(1)+272.15\n",
    "tdif = np.zeros(1)\n",
    "Ts1 = np.zeros(1)\n",
    "Tveg0 = np.zeros(1)\n",
    "Ua = np.zeros(1)+0.1\n",
    "VAI = np.zeros(1)\n",
    "vegh = np.zeros(1)\n",
    "zT = np.zeros(1)\n",
    "zU = np.zeros(1)\n",
    "\n",
    "ebal.run_timestep(cveg=cveg, Ds1=Ds1, dt=dt, fcans=fcans, fsnow=fsnow, gs1=gs1, ks1=ks1, lveg=lveg, LW=LW, Ps=Ps, Qa=Qa, SWsrf=SWsrf, \n",
    "                     Sveg=Sveg, SWveg=SWveg, Ta=Ta, tdif=tdif, Ts1=Ts1, Tveg0=Tveg0, Ua=Ua, VAI=VAI, vegh=vegh, zT=zT, zU=zU)"
   ]
  },
  {
   "cell_type": "code",
   "execution_count": 5,
   "id": "1846e9fb-208c-4087-8a4c-845c888bab15",
   "metadata": {},
   "outputs": [
    {
     "name": "stdout",
     "output_type": "stream",
     "text": [
      "initial self.Nsnow [0.]\n",
      "initial self.Dsnw [0. 0. 0.]\n",
      "initial self.Sice [0. 0. 0.]\n",
      "initial self.Sliq [0. 0. 0.]\n"
     ]
    },
    {
     "data": {
      "text/plain": [
       "(array([1.]), 0.0, 0.0, 0.0, array([0., 0., 0.]))"
      ]
     },
     "execution_count": 5,
     "metadata": {},
     "output_type": "execute_result"
    }
   ],
   "source": [
    "Wlfx=np.zeros(3)\n",
    "Dsnw=np.ones(3)*0.1\n",
    "Rgrn=np.ones(3)*0.001\n",
    "Nsnow = np.array(3)\n",
    "ksoil = np.ones(3)\n",
    "Gsrf = np.ones(1)\n",
    "Tsoil = np.ones(1)*274.15\n",
    "Tsrf = np.ones(1)*274.15\n",
    "Ta = np.ones(1)*274.15\n",
    "Melt = np.zeros(1)+0.01\n",
    "dt = 3600\n",
    "snow.run_timestep(dt=dt,drip=0,Esrf=0,Gsrf=Gsrf,ksoil=ksoil,Melt=Melt,Rf=0.0,\n",
    "                  Sf=0.0,Ta=Ta,trans=0,Tsrf=Tsrf,unload=0,Tsoil=Tsoil)"
   ]
  },
  {
   "cell_type": "code",
   "execution_count": 9,
   "id": "dd65ff8f-5452-487c-9db0-608b3577d572",
   "metadata": {},
   "outputs": [
    {
     "ename": "TypeError",
     "evalue": "SnowModel.snow_thermal() got an unexpected keyword argument 'rhof'",
     "output_type": "error",
     "traceback": [
      "\u001b[0;31m---------------------------------------------------------------------------\u001b[0m",
      "\u001b[0;31mTypeError\u001b[0m                                 Traceback (most recent call last)",
      "Cell \u001b[0;32mIn[9], line 8\u001b[0m\n\u001b[1;32m      6\u001b[0m \u001b[38;5;28;01mfor\u001b[39;00m ice \u001b[38;5;129;01min\u001b[39;00m Sice:\n\u001b[1;32m      7\u001b[0m     Si \u001b[38;5;241m=\u001b[39m np\u001b[38;5;241m.\u001b[39marray([ice])\n\u001b[0;32m----> 8\u001b[0m     ksnow\u001b[38;5;241m.\u001b[39mappend(snow\u001b[38;5;241m.\u001b[39msnow_thermal(rhof\u001b[38;5;241m=\u001b[39msnow\u001b[38;5;241m.\u001b[39mrhof, rho_wat\u001b[38;5;241m=\u001b[39msnow\u001b[38;5;241m.\u001b[39mrho_wat, \n\u001b[1;32m      9\u001b[0m                                    Dsnw\u001b[38;5;241m=\u001b[39mDsnw, Nsnow\u001b[38;5;241m=\u001b[39m\u001b[38;5;241m1\u001b[39m, Sice\u001b[38;5;241m=\u001b[39mSi, Sliq\u001b[38;5;241m=\u001b[39mSliq, CONDUCT\u001b[38;5;241m=\u001b[39m\u001b[38;5;241m1\u001b[39m, DENSITY\u001b[38;5;241m=\u001b[39m\u001b[38;5;241m1\u001b[39m))\n",
      "\u001b[0;31mTypeError\u001b[0m: SnowModel.snow_thermal() got an unexpected keyword argument 'rhof'"
     ]
    }
   ],
   "source": [
    "# Testing snow thermal\n",
    "Dsnw = np.array([1.0])\n",
    "Sice = np.arange(0,350,10)\n",
    "Sliq = np.array([0.0])\n",
    "ksnow = []\n",
    "for ice in Sice:\n",
    "    Si = np.array([ice])\n",
    "    ksnow.append(snow.snow_thermal(rhof=snow.rhof, rho_wat=snow.rho_wat, \n",
    "                                   Dsnw=Dsnw, Nsnow=1, Sice=Si, Sliq=Sliq, CONDUCT=1, DENSITY=1))"
   ]
  },
  {
   "cell_type": "code",
   "execution_count": 17,
   "id": "4566e254-f79a-4b00-9fae-6007f5c2e09e",
   "metadata": {},
   "outputs": [
    {
     "data": {
      "text/plain": [
       "[<matplotlib.lines.Line2D at 0x12fabe710>]"
      ]
     },
     "execution_count": 17,
     "metadata": {},
     "output_type": "execute_result"
    },
    {
     "data": {
      "image/png": "[encoded data removed]",
      "text/plain": [
       "<Figure size 640x480 with 1 Axes>"
      ]
     },
     "metadata": {},
     "output_type": "display_data"
    }
   ],
   "source": [
    "plt.plot(ksnow, Sice)"
   ]
  },
  {
   "cell_type": "code",
   "execution_count": null,
   "id": "31116563-8c3e-416a-938b-55c47e8cc719",
   "metadata": {},
   "outputs": [],
   "source": []
  }
 ],
 "metadata": {
  "kernelspec": {
   "display_name": "Python 3 (ipykernel)",
   "language": "python",
   "name": "python3"
  },
  "language_info": {
   "codemirror_mode": {
    "name": "ipython",
    "version": 3
   },
   "file_extension": ".py",
   "mimetype": "text/x-python",
   "name": "python",
   "nbconvert_exporter": "python",
   "pygments_lexer": "ipython3",
   "version": "3.11.5"
  }
 },
 "nbformat": 4,
 "nbformat_minor": 5
}
