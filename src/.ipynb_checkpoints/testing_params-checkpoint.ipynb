{
 "cells": [
  {
   "cell_type": "code",
   "execution_count": 1,
   "id": "3469f57f-036a-42c4-b73a-2910aca0e4e2",
   "metadata": {},
   "outputs": [],
   "source": [
    "# Import the classes from the constants module\n",
    "from pyFSM2_MODULES import Constants, IOUnits, Layers, Parameters, SoilProps\n",
    "\n",
    "# Example usage:\n",
    "params = Parameters()\n",
    "print(params.acn0)\n",
    "# Set values for SETPAR and DENSTY\n",
    "SETPAR = 1\n",
    "DENSTY = 0\n",
    "\n",
    "# Create instances of the classes\n",
    "constants_instance = Constants()\n",
    "#io_units_instance = IOUnits()\n",
    "#layers_instance = Layers()\n",
    "parameters_instance = Parameters(SETPAR=2, DENSITY=0)\n",
    "#soil_props_instance = SoilProps()\n",
    "\n",
    "# Now you can use the instances and access their attributes as needed\n",
    "#print(constants_instance.hcon_clay)  # Accessing the acn0 attribute from the Parameters class"
   ]
  },
  {
   "cell_type": "code",
   "execution_count": 4,
   "id": "08ad28c2-c8fc-4e54-bda0-1983529ae20c",
   "metadata": {},
   "outputs": [
    {
     "data": {
      "text/plain": [
       "36000.0"
      ]
     },
     "execution_count": 4,
     "metadata": {},
     "output_type": "execute_result"
    }
   ],
   "source": [
    "parameters_instance.cvai"
   ]
  },
  {
   "cell_type": "code",
   "execution_count": 6,
   "id": "f9338b76-1784-4ef7-9709-07d6db0e3c15",
   "metadata": {},
   "outputs": [
    {
     "name": "stdout",
     "output_type": "stream",
     "text": [
      "0.1\n"
     ]
    }
   ],
   "source": [
    "from pyFSM2_PARAMS import Parameters\n",
    "# Example usage:\n",
    "params = Parameters()\n",
    "print(params.acn0)"
   ]
  },
  {
   "cell_type": "code",
   "execution_count": null,
   "id": "d0ac6681-3326-43e6-8c82-d1420e024165",
   "metadata": {},
   "outputs": [],
   "source": []
  }
 ],
 "metadata": {
  "kernelspec": {
   "display_name": "Python 3 (ipykernel)",
   "language": "python",
   "name": "python3"
  },
  "language_info": {
   "codemirror_mode": {
    "name": "ipython",
    "version": 3
   },
   "file_extension": ".py",
   "mimetype": "text/x-python",
   "name": "python",
   "nbconvert_exporter": "python",
   "pygments_lexer": "ipython3",
   "version": "3.11.5"
  }
 },
 "nbformat": 4,
 "nbformat_minor": 5
}
